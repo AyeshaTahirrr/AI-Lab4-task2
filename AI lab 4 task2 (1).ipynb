{
 "cells": [
  {
   "cell_type": "code",
   "execution_count": 1,
   "id": "3a4c17f3-3b33-46c4-9e1b-7a07fe164ac4",
   "metadata": {},
   "outputs": [
    {
     "name": "stdout",
     "output_type": "stream",
     "text": [
      "Probability of buying a computer: 0.77\n",
      "Probability of not buying a computer: 0.23\n",
      "\n",
      "Prediction: The person will buy a computer.\n"
     ]
    }
   ],
   "source": [
    "import pandas as pd\n",
    "\n",
    "data = {\n",
    "    \"age\": [\"youth\", \"youth\", \"middle_aged\", \"senior\", \"senior\", \"senior\", \"middle_aged\", \"youth\", \"youth\", \"senior\", \n",
    "            \"youth\", \"middle_aged\", \"middle_aged\", \"senior\"],\n",
    "    \"income\": [\"high\", \"high\", \"high\", \"medium\", \"low\", \"low\", \"low\", \"medium\", \"low\", \"medium\", \n",
    "               \"medium\", \"medium\", \"high\", \"medium\"],\n",
    "    \"student\": [\"no\", \"no\", \"no\", \"no\", \"yes\", \"yes\", \"no\", \"no\", \"yes\", \"yes\", \n",
    "                \"yes\", \"yes\", \"no\", \"no\"],\n",
    "    \"credit_rating\": [\"fair\", \"excellent\", \"fair\", \"fair\", \"fair\", \"excellent\", \"excellent\", \"fair\", \"fair\", \"fair\", \n",
    "                      \"excellent\", \"excellent\", \"fair\", \"excellent\"],\n",
    "    \"buys_computer\": [\"no\", \"no\", \"yes\", \"yes\", \"yes\", \"no\", \"yes\", \"no\", \"yes\", \"yes\", \n",
    "                      \"yes\", \"yes\", \"yes\", \"no\"]\n",
    "}\n",
    "\n",
    "df = pd.DataFrame(data)\n",
    "def calculate_priors(df):\n",
    "   \n",
    "    total_count = len(df)\n",
    "    p_yes = len(df[df[\"buys_computer\"] == \"yes\"]) / total_count\n",
    "    p_no = len(df[df[\"buys_computer\"] == \"no\"]) / total_count\n",
    "    return p_yes, p_no\n",
    "\n",
    "def likelihood(feature, value, outcome):\n",
    "    \n",
    "    outcome_count = len(df[df[\"buys_computer\"] == outcome])\n",
    "    if outcome_count == 0:\n",
    "        return 0  # Prevent division by zero\n",
    "    return len(df[(df[feature] == value) & (df[\"buys_computer\"] == outcome)]) / outcome_count\n",
    "\n",
    "def calculate_posteriors(conditions, p_yes, p_no):\n",
    "   \n",
    "    p_yes_given_conditions = p_yes\n",
    "    p_no_given_conditions = p_no\n",
    "\n",
    "    for feature, value in conditions.items():\n",
    "        p_yes_given_conditions *= likelihood(feature, value, \"yes\")\n",
    "        p_no_given_conditions *= likelihood(feature, value, \"no\")\n",
    "\n",
    "    return p_yes_given_conditions, p_no_given_conditions\n",
    "\n",
    "def predict_buys_computer(conditions):\n",
    "   \n",
    "  \n",
    "    p_yes, p_no = calculate_priors(df)\n",
    "    p_yes_given_conditions, p_no_given_conditions = calculate_posteriors(conditions, p_yes, p_no)\n",
    "\n",
    "    total = p_yes_given_conditions + p_no_given_conditions\n",
    "    p_yes_final = p_yes_given_conditions / total if total > 0 else 0\n",
    "    p_no_final = p_no_given_conditions / total if total > 0 else 0\n",
    "\n",
    "    return p_yes_final, p_no_final\n",
    "\n",
    "conditions = {\n",
    "    \"age\": \"youth\",\n",
    "    \"income\": \"medium\",\n",
    "    \"student\": \"yes\",\n",
    "    \"credit_rating\": \"fair\"\n",
    "}\n",
    "p_yes_final, p_no_final = predict_buys_computer(conditions)\n",
    "\n",
    "print(f\"Probability of buying a computer: {p_yes_final:.2f}\")\n",
    "print(f\"Probability of not buying a computer: {p_no_final:.2f}\\n\")\n",
    "\n",
    "if p_yes_final > p_no_final:\n",
    "    print(\"Prediction: The person will buy a computer.\")\n",
    "else:\n",
    "    print(\"Prediction: The person will not buy a computer.\")\n"
   ]
  },
  {
   "cell_type": "code",
   "execution_count": null,
   "id": "bc06bacb-e499-45b0-ab3f-8738ebf1b947",
   "metadata": {},
   "outputs": [],
   "source": []
  }
 ],
 "metadata": {
  "kernelspec": {
   "display_name": "Python 3 (ipykernel)",
   "language": "python",
   "name": "python3"
  },
  "language_info": {
   "codemirror_mode": {
    "name": "ipython",
    "version": 3
   },
   "file_extension": ".py",
   "mimetype": "text/x-python",
   "name": "python",
   "nbconvert_exporter": "python",
   "pygments_lexer": "ipython3",
   "version": "3.12.7"
  }
 },
 "nbformat": 4,
 "nbformat_minor": 5
}
