{
 "cells": [
  {
   "cell_type": "code",
   "execution_count": null,
   "id": "3a4c17f3-3b33-46c4-9e1b-7a07fe164ac4",
   "metadata": {},
   "outputs": [],
   "source": []
  }
 ],
 "metadata": {
  "kernelspec": {
   "display_name": "",
   "name": ""
  },
  "language_info": {
   "name": ""
  }
 },
 "nbformat": 4,
 "nbformat_minor": 5
}
